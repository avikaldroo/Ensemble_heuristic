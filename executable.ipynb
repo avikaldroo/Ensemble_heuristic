{
 "cells": [
  {
   "cell_type": "code",
   "execution_count": 1,
   "id": "06bd545e",
   "metadata": {},
   "outputs": [],
   "source": [
    "import pandas as pd\n",
    "import numpy as np\n",
    "import gurobipy as gp\n",
    "import re\n",
    "from time import process_time\n",
    "import instance_generation as ig\n",
    "import pre_processing as p\n",
    "import implement_heuristic as ih\n",
    "import heuristic_program as hp\n",
    "import evaluate_predictions as ep"
   ]
  },
  {
   "cell_type": "code",
   "execution_count": null,
   "id": "f5caec59",
   "metadata": {},
   "outputs": [],
   "source": [
    "#Generate a dataframe with solved instances for the TBR model with Clusters\n",
    "n_pr = 5 #number of trees considered for the TBR model. 5 in this example.\n",
    "env = {} # gurobi environment details for accessing individual license. Empty for the example\n",
    "instance_df = ig.generate_df(n_pr,env)\n",
    "instance_df.to_excel('instance_data.xlsx', index=False)\n",
    "\n",
    "#This excel file would be used by the adjoining R script to train Random forest model and extract rules from it"
   ]
  },
  {
   "cell_type": "code",
   "execution_count": null,
   "id": "a250b5fa",
   "metadata": {},
   "outputs": [],
   "source": [
    "#read the training, testing and rules files\n",
    "\n",
    "train_df = pd.read_excel('training_data.xlsx')\n",
    "test_df = pd.read_excel('testing_data.xlsx')\n",
    "R_rules_df = pd.read_excel('extracted_rules.xlsx')\n",
    "original_parm_df = pd.read_excel('original_param_train.xlsx')\n",
    "feature_importance = pd.read_excel('feature_importance.xlsx')\n",
    "column_indices_list = feature_importance.ordered_column_indices.tolist()\n",
    "label_column = 'Cluster' #Cluster is the label for this dataset\n",
    "R_column = 'conditions' #name of the rules column for the rules output\n",
    "\n",
    "# pre-process the rules to and get the corresponding rules for each outcome label\n",
    "rules_dict = p.rule_selection(train_df,R_rules_df,R_column,label_column, coverage_threshold = 0.95)"
   ]
  },
  {
   "cell_type": "code",
   "execution_count": null,
   "id": "4236be4b",
   "metadata": {},
   "outputs": [],
   "source": [
    "# This function builds the heuristic using the inputs of the rules, training data and feature importance order\n",
    "\n",
    "heuristic_branches,value_ranges_branch,leaf_nodes,terminating_rules,terminating_rules_outcome,branch_rules = hp.initiate_heuristic(rules_dict, train_df, column_indices_list,branch ,parent_key,feature_limit_input)\n",
    "\n",
    "\n",
    "\n",
    "#branch is a string has default value '1'\n",
    "#parent key has default value None\n",
    "#feature_limit_input is a dict which has default value = {0: {\"lower_limit\": 0,\"upper_limit\":4000,\"interval\": 50},\n",
    "# 1: {\"lower_limit\": 0,\"upper_limit\":600,\"interval\": 10},\n",
    "# 2: {\"lower_limit\": 0,\"upper_limit\":100,\"interval\": 5},\n",
    "# 3: {\"lower_limit\": 0,\"upper_limit\":4100,\"interval\": 25},\n",
    "# 4: {\"lower_limit\": 0,\"upper_limit\":200,\"interval\": 5},\n",
    "# 5: {\"lower_limit\": 0,\"upper_limit\":1,\"interval\": 0.05},\n",
    "# 6: {\"lower_limit\": 0,\"upper_limit\":4,\"interval\": 0.1},\n",
    "# 7: {\"lower_limit\": 0,\"upper_limit\":1,\"interval\": 0.05},\n",
    "# 8: {\"lower_limit\": 0,\"upper_limit\":1,\"interval\": 0.05}\n",
    "# } "
   ]
  },
  {
   "cell_type": "code",
   "execution_count": null,
   "id": "913f8427",
   "metadata": {},
   "outputs": [],
   "source": [
    "#implementing the heuristic on testing data\n",
    "\n",
    "test_df = ih.implement_heur_test(test_df,heuristic_branches, terminating_rules, value_ranges_branch,column_indices_list,leaf_nodes,terminating_rules_outcome, level = 0)\n",
    "\n",
    "#A new column with predicted outcomes would be added to test_df"
   ]
  },
  {
   "cell_type": "code",
   "execution_count": null,
   "id": "d191137b",
   "metadata": {},
   "outputs": [],
   "source": [
    "#evaluating results\n",
    "original_solution = 'Cluster' # column name for the original solution\n",
    "predicted_solution = 'predicted_cluster'\n",
    "\n",
    "wrong_pred_df,final_opt_gap,resolve_time = ep.results_eval(test_df,original_solution, predicted_solution,n_pr,original_parm_df,original_parameters,env)"
   ]
  }
 ],
 "metadata": {
  "kernelspec": {
   "display_name": "Python 3 (ipykernel)",
   "language": "python",
   "name": "python3"
  },
  "language_info": {
   "codemirror_mode": {
    "name": "ipython",
    "version": 3
   },
   "file_extension": ".py",
   "mimetype": "text/x-python",
   "name": "python",
   "nbconvert_exporter": "python",
   "pygments_lexer": "ipython3",
   "version": "3.9.12"
  }
 },
 "nbformat": 4,
 "nbformat_minor": 5
}
